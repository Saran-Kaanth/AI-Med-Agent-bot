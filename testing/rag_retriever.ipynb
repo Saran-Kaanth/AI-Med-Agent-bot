{
 "cells": [
  {
   "cell_type": "code",
   "execution_count": 2,
   "metadata": {},
   "outputs": [
    {
     "name": "stderr",
     "output_type": "stream",
     "text": [
      "c:\\Users\\SARAN KAANTH L\\AppData\\Local\\pypoetry\\Cache\\virtualenvs\\ai_agent_based_hospital_chatbot-QmuN_Jek-py3.11\\Lib\\site-packages\\tqdm\\auto.py:21: TqdmWarning: IProgress not found. Please update jupyter and ipywidgets. See https://ipywidgets.readthedocs.io/en/stable/user_install.html\n",
      "  from .autonotebook import tqdm as notebook_tqdm\n"
     ]
    }
   ],
   "source": [
    "import os\n",
    "from typing import List\n",
    "\n",
    "import faiss, chromadb\n",
    "from llama_index.readers.file import PDFReader\n",
    "from llama_index.core.schema import Document, TextNode\n",
    "from llama_index.core.node_parser import SemanticSplitterNodeParser\n",
    "from langchain_community.embeddings import OllamaEmbeddings\n",
    "from llama_index.embeddings.huggingface import HuggingFaceEmbedding\n",
    "from llama_index.core import VectorStoreIndex, StorageContext\n",
    "from llama_index.vector_stores.faiss import FaissVectorStore\n",
    "from langchain_community.vectorstores import FAISS\n",
    "from llama_index.vector_stores.chroma import ChromaVectorStore\n",
    "from llama_index.core import VectorStoreIndex\n"
   ]
  },
  {
   "cell_type": "markdown",
   "metadata": {},
   "source": [
    "### Loading PDF File"
   ]
  },
  {
   "cell_type": "code",
   "execution_count": 3,
   "metadata": {},
   "outputs": [],
   "source": [
    "file_path=\"..\\\\data\\\\nabh_gib_hos.pdf\"\n",
    "\n",
    "pdf_reader=PDFReader()\n",
    "documents:List[Document]=pdf_reader.load_data(file_path)"
   ]
  },
  {
   "cell_type": "code",
   "execution_count": null,
   "metadata": {},
   "outputs": [],
   "source": [
    "documents"
   ]
  },
  {
   "cell_type": "markdown",
   "metadata": {},
   "source": [
    "### Semantic Chunking"
   ]
  },
  {
   "cell_type": "code",
   "execution_count": 4,
   "metadata": {},
   "outputs": [
    {
     "name": "stderr",
     "output_type": "stream",
     "text": [
      "c:\\Users\\SARAN KAANTH L\\AppData\\Local\\pypoetry\\Cache\\virtualenvs\\ai_agent_based_hospital_chatbot-QmuN_Jek-py3.11\\Lib\\site-packages\\huggingface_hub\\file_download.py:142: UserWarning: `huggingface_hub` cache-system uses symlinks by default to efficiently store duplicated files but your machine does not support them in C:\\Users\\SARAN KAANTH L\\AppData\\Local\\llama_index\\models--sentence-transformers--all-MiniLM-L6-v2. Caching files will still work but in a degraded version that might require more space on your disk. This warning can be disabled by setting the `HF_HUB_DISABLE_SYMLINKS_WARNING` environment variable. For more details, see https://huggingface.co/docs/huggingface_hub/how-to-cache#limitations.\n",
      "To support symlinks on Windows, you either need to activate Developer Mode or to run Python as an administrator. In order to activate developer mode, see this article: https://docs.microsoft.com/en-us/windows/apps/get-started/enable-your-device-for-development\n",
      "  warnings.warn(message)\n"
     ]
    }
   ],
   "source": [
    "# embedding_model=OpenAIEmbedding()\n",
    "# embedding_model=OllamaEmbeddings(model_name=\"nomic-embed-text\",show_progress=True)\n",
    "embedding_model=HuggingFaceEmbedding(model_name=\"all-MiniLM-L6-v2\")\n",
    "semantic_splitter=SemanticSplitterNodeParser(buffer_size=1,embed_model=embedding_model,breakpoint_percentile_threshold=95)"
   ]
  },
  {
   "cell_type": "code",
   "execution_count": 5,
   "metadata": {},
   "outputs": [
    {
     "name": "stderr",
     "output_type": "stream",
     "text": [
      "Generating embeddings: 100%|██████████| 1/1 [00:00<00:00, 12.83it/s]\n",
      "Generating embeddings: 100%|██████████| 11/11 [00:00<00:00, 34.80it/s]\n",
      "Generating embeddings: 100%|██████████| 22/22 [00:00<00:00, 67.04it/s]\n",
      "Generating embeddings: 100%|██████████| 12/12 [00:00<00:00, 35.96it/s]\n",
      "Generating embeddings: 100%|██████████| 3/3 [00:00<00:00, 27.42it/s]\n",
      "Generating embeddings: 100%|██████████| 12/12 [00:00<00:00, 60.18it/s]\n",
      "Generating embeddings: 100%|██████████| 5/5 [00:00<00:00, 41.71it/s]\n",
      "Generating embeddings: 100%|██████████| 17/17 [00:00<00:00, 55.76it/s]\n",
      "Generating embeddings: 100%|██████████| 8/8 [00:00<00:00, 32.39it/s]\n",
      "Generating embeddings: 100%|██████████| 5/5 [00:00<00:00, 21.08it/s]\n",
      "Generating embeddings: 100%|██████████| 1/1 [00:00<00:00, 42.13it/s]\n",
      "Generating embeddings: 100%|██████████| 9/9 [00:00<00:00, 41.84it/s]\n",
      "Generating embeddings: 100%|██████████| 11/11 [00:00<00:00, 34.78it/s]\n",
      "Generating embeddings: 100%|██████████| 14/14 [00:00<00:00, 58.03it/s]\n",
      "Generating embeddings: 100%|██████████| 11/11 [00:00<00:00, 39.50it/s]\n",
      "Generating embeddings: 100%|██████████| 10/10 [00:00<00:00, 43.92it/s]\n",
      "Generating embeddings: 100%|██████████| 4/4 [00:00<00:00, 42.69it/s]\n",
      "Generating embeddings: 100%|██████████| 7/7 [00:00<00:00, 40.45it/s]\n",
      "Generating embeddings: 100%|██████████| 8/8 [00:00<00:00, 59.89it/s]\n",
      "Generating embeddings: 100%|██████████| 9/9 [00:00<00:00, 37.06it/s]\n",
      "Generating embeddings: 100%|██████████| 12/12 [00:00<00:00, 39.46it/s]\n",
      "Parsing nodes: 100%|██████████| 21/21 [00:04<00:00,  4.42it/s]\n"
     ]
    }
   ],
   "source": [
    "nodes:List[TextNode]=semantic_splitter.get_nodes_from_documents(documents,show_progress=True)"
   ]
  },
  {
   "cell_type": "markdown",
   "metadata": {},
   "source": [
    "### Creating Embeddings and Indexing using FAISS"
   ]
  },
  {
   "cell_type": "code",
   "execution_count": null,
   "metadata": {},
   "outputs": [],
   "source": [
    "dim=1536\n",
    "faiss_index=faiss.IndexFlatL2()"
   ]
  },
  {
   "cell_type": "code",
   "execution_count": null,
   "metadata": {},
   "outputs": [],
   "source": [
    "vector_store=FaissVectorStore(faiss_index)\n",
    "storage_context=StorageContext.from_defaults(vector_store=vector_store)"
   ]
  },
  {
   "cell_type": "code",
   "execution_count": null,
   "metadata": {},
   "outputs": [],
   "source": [
    "vector_index=VectorStoreIndex(nodes=nodes, embed_model=embedding_model, storage_context=storage_context)\n",
    "vector_index.storage_context.persist(\"../storage\")"
   ]
  },
  {
   "cell_type": "code",
   "execution_count": 6,
   "metadata": {},
   "outputs": [],
   "source": [
    "chroma_client = chromadb.EphemeralClient()\n",
    "chroma_collection = chroma_client.create_collection(\"nabh_data\")\n",
    "\n",
    "vector_store = ChromaVectorStore(chroma_collection=chroma_collection)\n",
    "storage_context = StorageContext.from_defaults(vector_store=vector_store)"
   ]
  },
  {
   "cell_type": "code",
   "execution_count": null,
   "metadata": {},
   "outputs": [],
   "source": [
    "index = VectorStoreIndex(nodes, storage_context=storage_context,embed_model=embedding_model)"
   ]
  },
  {
   "cell_type": "markdown",
   "metadata": {},
   "source": [
    "### Retrieval"
   ]
  },
  {
   "cell_type": "code",
   "execution_count": null,
   "metadata": {},
   "outputs": [],
   "source": [
    "from llama_index.core import StorageContext, load_index_from_storage\n",
    "from llama_index.vector_stores.faiss import FaissVectorStore\n",
    "from llama_index.core import Settings"
   ]
  },
  {
   "cell_type": "code",
   "execution_count": null,
   "metadata": {},
   "outputs": [],
   "source": [
    "vector_store=FaissVectorStore.from_persist_dir(\"../storage\")\n",
    "storage_context=StorageContext.from_defaults(vector_store=vector_store,persist_dir=\"../storage\")\n",
    "vector_index=load_index_from_storage(storage_context)"
   ]
  },
  {
   "cell_type": "code",
   "execution_count": null,
   "metadata": {},
   "outputs": [],
   "source": [
    "retriever=vector_index.as_retriever(kwargs={\"similarity_top_k\":3})"
   ]
  },
  {
   "cell_type": "code",
   "execution_count": null,
   "metadata": {},
   "outputs": [],
   "source": [
    "docs=retriever.retrieve(str_or_query_bundle='what are the certification programs provided by nabh')"
   ]
  },
  {
   "cell_type": "code",
   "execution_count": null,
   "metadata": {},
   "outputs": [],
   "source": [
    "docs[0].node.text"
   ]
  },
  {
   "cell_type": "code",
   "execution_count": null,
   "metadata": {},
   "outputs": [],
   "source": [
    "docs"
   ]
  },
  {
   "cell_type": "code",
   "execution_count": null,
   "metadata": {},
   "outputs": [],
   "source": [
    "embed_model=HuggingFaceEmbedding(model_name=\"BAAI/bge-small-en-v1.5\")"
   ]
  },
  {
   "cell_type": "code",
   "execution_count": null,
   "metadata": {},
   "outputs": [],
   "source": [
    "chroma_client = chromadb.EphemeralClient()\n",
    "chroma_collection = chroma_client.create_collection(\"nabh_collection\")"
   ]
  },
  {
   "cell_type": "code",
   "execution_count": null,
   "metadata": {},
   "outputs": [],
   "source": [
    "vector_store = ChromaVectorStore(chroma_collection=chroma_collection)\n",
    "storage_context = StorageContext.from_defaults(vector_store=vector_store)"
   ]
  },
  {
   "cell_type": "code",
   "execution_count": null,
   "metadata": {},
   "outputs": [],
   "source": [
    "documents"
   ]
  },
  {
   "cell_type": "code",
   "execution_count": null,
   "metadata": {},
   "outputs": [],
   "source": [
    "index=VectorStoreIndex.from_documents(documents, storage_context=storage_context, embed_model=embed_model)"
   ]
  },
  {
   "cell_type": "code",
   "execution_count": null,
   "metadata": {},
   "outputs": [],
   "source": [
    "db = FAISS.from_documents(documents, OllamaEmbeddings(model=\"nomic-embed-text\",show_progress=True))"
   ]
  },
  {
   "cell_type": "markdown",
   "metadata": {},
   "source": [
    "## Retriever using Langchain and FAISS with HuggingFace"
   ]
  },
  {
   "cell_type": "code",
   "execution_count": 2,
   "metadata": {},
   "outputs": [],
   "source": [
    "from langchain_community.vectorstores import FAISS\n",
    "from langchain_community.embeddings import HuggingFaceEmbeddings\n",
    "from langchain.text_splitter import RecursiveCharacterTextSplitter\n",
    "from langchain_core.documents import Document\n",
    "from langchain_community.document_loaders import PyPDFLoader"
   ]
  },
  {
   "cell_type": "code",
   "execution_count": 3,
   "metadata": {},
   "outputs": [],
   "source": [
    "file_path=\"..\\\\data\\\\nabh_gib_hos.pdf\"\n",
    "\n",
    "loader = PyPDFLoader(file_path)\n",
    "pages = []\n",
    "async for page in loader.alazy_load():\n",
    "    pages.append(page)"
   ]
  },
  {
   "cell_type": "code",
   "execution_count": 4,
   "metadata": {},
   "outputs": [
    {
     "data": {
      "text/plain": [
       "21"
      ]
     },
     "execution_count": 4,
     "metadata": {},
     "output_type": "execute_result"
    }
   ],
   "source": [
    "len(pages)"
   ]
  },
  {
   "cell_type": "code",
   "execution_count": 16,
   "metadata": {},
   "outputs": [],
   "source": [
    "text_splitter=RecursiveCharacterTextSplitter(chunk_size=1250,chunk_overlap=100)"
   ]
  },
  {
   "cell_type": "code",
   "execution_count": 17,
   "metadata": {},
   "outputs": [],
   "source": [
    "split_docs=text_splitter.split_documents(pages)"
   ]
  },
  {
   "cell_type": "code",
   "execution_count": 18,
   "metadata": {},
   "outputs": [
    {
     "data": {
      "text/plain": [
       "34"
      ]
     },
     "execution_count": 18,
     "metadata": {},
     "output_type": "execute_result"
    }
   ],
   "source": [
    "len(split_docs)"
   ]
  },
  {
   "cell_type": "code",
   "execution_count": 19,
   "metadata": {},
   "outputs": [
    {
     "data": {
      "text/plain": [
       "Document(metadata={'producer': 'PDFium', 'creator': 'PDFium', 'creationdate': 'D:20250227212411', 'source': '..\\\\data\\\\nabh_gib_hos.pdf', 'total_pages': 21, 'page': 6, 'page_label': '7'}, page_content='NATIONAL ACCREDITATION BOARD FOR HOSPITALS  \\n& HEALTHCARE PROVIDERS (NABH) \\n   \\nPage 7  \\nBenefits of Accreditation \\n \\n \\n  \\n \\n \\nBenefits for Staff \\n \\n• The staff in an accredited Hospital is satisfied lot as it provides for continuous \\nlearning, good working environment and leadership.  \\n• Efficiencies and competencies of staff also gets improved in an accredited Hospital.  \\n• It improves overall professional de velopment, knowledge and competencies in \\nsystematic ways with defined ownership and accountability of all the staff including \\nMedical and Para Medical Staff.  \\n \\nBenefits to paying and regulatory bodies \\n \\nFinally, accreditation provides an objective system of  empanelment by insurance and \\nother third parties. Accreditation provides access to reliable and certified information on \\nfacilities, infrastructure and level of care.')"
      ]
     },
     "execution_count": 19,
     "metadata": {},
     "output_type": "execute_result"
    }
   ],
   "source": [
    "split_docs[10]"
   ]
  },
  {
   "cell_type": "code",
   "execution_count": 20,
   "metadata": {},
   "outputs": [
    {
     "name": "stderr",
     "output_type": "stream",
     "text": [
      "C:\\Users\\SARAN KAANTH L\\AppData\\Local\\Temp\\ipykernel_22636\\3123569051.py:1: LangChainDeprecationWarning: The class `HuggingFaceEmbeddings` was deprecated in LangChain 0.2.2 and will be removed in 1.0. An updated version of the class exists in the :class:`~langchain-huggingface package and should be used instead. To use it run `pip install -U :class:`~langchain-huggingface` and import as `from :class:`~langchain_huggingface import HuggingFaceEmbeddings``.\n",
      "  embeddings=HuggingFaceEmbeddings(model_name=\"sentence-transformers/all-MiniLM-L6-v2\")\n",
      "c:\\Users\\SARAN KAANTH L\\AppData\\Local\\pypoetry\\Cache\\virtualenvs\\ai_agent_based_hospital_chatbot-QmuN_Jek-py3.11\\Lib\\site-packages\\tqdm\\auto.py:21: TqdmWarning: IProgress not found. Please update jupyter and ipywidgets. See https://ipywidgets.readthedocs.io/en/stable/user_install.html\n",
      "  from .autonotebook import tqdm as notebook_tqdm\n",
      "c:\\Users\\SARAN KAANTH L\\AppData\\Local\\pypoetry\\Cache\\virtualenvs\\ai_agent_based_hospital_chatbot-QmuN_Jek-py3.11\\Lib\\site-packages\\huggingface_hub\\file_download.py:142: UserWarning: `huggingface_hub` cache-system uses symlinks by default to efficiently store duplicated files but your machine does not support them in C:\\Users\\SARAN KAANTH L\\.cache\\huggingface\\hub\\models--sentence-transformers--all-MiniLM-L6-v2. Caching files will still work but in a degraded version that might require more space on your disk. This warning can be disabled by setting the `HF_HUB_DISABLE_SYMLINKS_WARNING` environment variable. For more details, see https://huggingface.co/docs/huggingface_hub/how-to-cache#limitations.\n",
      "To support symlinks on Windows, you either need to activate Developer Mode or to run Python as an administrator. In order to activate developer mode, see this article: https://docs.microsoft.com/en-us/windows/apps/get-started/enable-your-device-for-development\n",
      "  warnings.warn(message)\n"
     ]
    }
   ],
   "source": [
    "embeddings=HuggingFaceEmbeddings(model_name=\"sentence-transformers/all-MiniLM-L6-v2\")"
   ]
  },
  {
   "cell_type": "code",
   "execution_count": 21,
   "metadata": {},
   "outputs": [],
   "source": [
    "vector_store=FAISS.from_documents(split_docs,embeddings)"
   ]
  },
  {
   "cell_type": "code",
   "execution_count": 22,
   "metadata": {},
   "outputs": [],
   "source": [
    "vector_store_name=\"faiss_storage\"\n",
    "vector_store.save_local(vector_store_name)"
   ]
  },
  {
   "cell_type": "code",
   "execution_count": 23,
   "metadata": {},
   "outputs": [],
   "source": [
    "result=vector_store.similarity_search(query=\"What are the certification programs provided by nabh?\",k=5)"
   ]
  },
  {
   "cell_type": "code",
   "execution_count": null,
   "metadata": {},
   "outputs": [
    {
     "data": {
      "text/plain": [
       "'NATIONAL ACCREDITATION BOARD FOR HOSPITALS  \\n& HEALTHCARE PROVIDERS (NABH) \\n   \\nPage 11  \\nAccreditation Process'"
      ]
     },
     "execution_count": 30,
     "metadata": {},
     "output_type": "execute_result"
    }
   ],
   "source": [
    "result[4].page_content"
   ]
  },
  {
   "cell_type": "code",
   "execution_count": null,
   "metadata": {},
   "outputs": [],
   "source": []
  }
 ],
 "metadata": {
  "kernelspec": {
   "display_name": "ai_agent_based_hospital_chatbot-QmuN_Jek-py3.11",
   "language": "python",
   "name": "python3"
  },
  "language_info": {
   "codemirror_mode": {
    "name": "ipython",
    "version": 3
   },
   "file_extension": ".py",
   "mimetype": "text/x-python",
   "name": "python",
   "nbconvert_exporter": "python",
   "pygments_lexer": "ipython3",
   "version": "3.11.9"
  }
 },
 "nbformat": 4,
 "nbformat_minor": 2
}
